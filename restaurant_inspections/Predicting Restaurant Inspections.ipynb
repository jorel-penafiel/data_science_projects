{
 "cells": [
  {
   "cell_type": "markdown",
   "metadata": {},
   "source": [
    "## Background\n",
    "Failed inspections directly impact businesses that give loans to or partner with these companies.  Businesses include food delivery services (DoorDash, Grubhub).\n",
    "\n",
    "Since the city of Chicago tracks [restaurant inspections](https://data.cityofchicago.org/Health-Human-Services/Restaurant/5udb-dr6f) since 2010, I decided to use this open souce data to generate a model that will predict whether or not a Chicago restaurant will failt is next inspection.\n",
    "\n",
    "\n",
    "We'd like to generate a model that will predict whether or not a Chicago restaurant will fail its next inspection.\n"
   ]
  },
  {
   "cell_type": "markdown",
   "metadata": {},
   "source": [
    "#### Determining the Target variable\n",
    "\n",
    "We want to predict whether or not a Chicago restaurant will fail its next inspection.  Therefore the target variable is **Result**.  The results fall under three categories, after we ignore the others as they do not give valuable information to whether a restaurant failed or not, 'Pass', 'Pass w/ Conditions', and 'Fail'."
   ]
  },
  {
   "cell_type": "markdown",
   "metadata": {},
   "source": [
    "#### Choosing features\n",
    "\n",
    "There are esentially 3 main features that we would like to look into.\n",
    "\n",
    "**Zip**: This allows us to section Chicago into different neighborhoods.  Some neighborhoods may be more likely to fail or pass with Conditions for their inspection.\n",
    "\n",
    "**Chains**:  More popular restaurants will have more chain restaurants and are possibly less likely to fail in their inspections.\n",
    "\n",
    "**n_inspections, n_passed, n_failed, n_pwc**:  These numbers give us the number of previous inspections.  How often the restaurants passed, failed, or pwc'ed.  These numbers don't count the result from the most recent inspeciton.\n",
    "\n",
    "#### Not good features\n",
    "**Risk**:  While a convenient metric to see whether the inspection will pass or not, varies too much from inspection to inspection.\n",
    "\n",
    "**Inspection Type**:  This along with Risk are not good features to use because the inspection type is random, which brings along with it the Risk.  We are more interested in the results from any kind of inspection."
   ]
  },
  {
   "cell_type": "markdown",
   "metadata": {},
   "source": [
    "### Data Cleaning and Aggregation"
   ]
  },
  {
   "cell_type": "code",
   "execution_count": 1,
   "metadata": {},
   "outputs": [],
   "source": [
    "#Importing basic packages\n",
    "import numpy as np\n",
    "import matplotlib.pyplot as plt\n",
    "import pandas as pd"
   ]
  },
  {
   "cell_type": "code",
   "execution_count": 3,
   "metadata": {},
   "outputs": [],
   "source": [
    "df2 = pd.read_csv('datasets/chicago_restaurant_inspections.csv')"
   ]
  },
  {
   "cell_type": "code",
   "execution_count": 4,
   "metadata": {
    "scrolled": true
   },
   "outputs": [
    {
     "data": {
      "text/html": [
       "<div>\n",
       "<style scoped>\n",
       "    .dataframe tbody tr th:only-of-type {\n",
       "        vertical-align: middle;\n",
       "    }\n",
       "\n",
       "    .dataframe tbody tr th {\n",
       "        vertical-align: top;\n",
       "    }\n",
       "\n",
       "    .dataframe thead th {\n",
       "        text-align: right;\n",
       "    }\n",
       "</style>\n",
       "<table border=\"1\" class=\"dataframe\">\n",
       "  <thead>\n",
       "    <tr style=\"text-align: right;\">\n",
       "      <th></th>\n",
       "      <th>DBA Name</th>\n",
       "      <th>AKA Name</th>\n",
       "      <th>License #</th>\n",
       "      <th>Facility Type</th>\n",
       "      <th>Risk</th>\n",
       "      <th>Address</th>\n",
       "      <th>City</th>\n",
       "      <th>State</th>\n",
       "      <th>Zip</th>\n",
       "      <th>Inspection Date</th>\n",
       "      <th>Inspection Type</th>\n",
       "      <th>Results</th>\n",
       "      <th>Violations</th>\n",
       "      <th>Latitude</th>\n",
       "      <th>Longitude</th>\n",
       "      <th>Location</th>\n",
       "    </tr>\n",
       "  </thead>\n",
       "  <tbody>\n",
       "    <tr>\n",
       "      <th>0</th>\n",
       "      <td>MANOLO'S TAMALES #3</td>\n",
       "      <td>MANOLO'S TAMALES #3</td>\n",
       "      <td>2307811</td>\n",
       "      <td>Restaurant</td>\n",
       "      <td>Risk 1 (High)</td>\n",
       "      <td>2455 S KEDZIE AVE</td>\n",
       "      <td>CHICAGO</td>\n",
       "      <td>IL</td>\n",
       "      <td>60623.0</td>\n",
       "      <td>12/04/2018</td>\n",
       "      <td>Complaint Re-Inspection</td>\n",
       "      <td>Fail</td>\n",
       "      <td>3. MANAGEMENT, FOOD EMPLOYEE AND CONDITIONAL E...</td>\n",
       "      <td>41.846539</td>\n",
       "      <td>-87.704953</td>\n",
       "      <td>(41.846538888991475, -87.70495285575998)</td>\n",
       "    </tr>\n",
       "    <tr>\n",
       "      <th>1</th>\n",
       "      <td>WOLFGANG EXPRESS</td>\n",
       "      <td>WOLFGANG PUCK EXPRESS (T3 K12)</td>\n",
       "      <td>34199</td>\n",
       "      <td>Restaurant</td>\n",
       "      <td>Risk 1 (High)</td>\n",
       "      <td>11601 W TOUHY AVE</td>\n",
       "      <td>CHICAGO</td>\n",
       "      <td>IL</td>\n",
       "      <td>60666.0</td>\n",
       "      <td>03/26/2019</td>\n",
       "      <td>Canvass</td>\n",
       "      <td>Fail</td>\n",
       "      <td>10. ADEQUATE HANDWASHING SINKS PROPERLY SUPPLI...</td>\n",
       "      <td>42.008536</td>\n",
       "      <td>-87.914428</td>\n",
       "      <td>(42.008536400868735, -87.91442843927047)</td>\n",
       "    </tr>\n",
       "    <tr>\n",
       "      <th>2</th>\n",
       "      <td>PASTORAL</td>\n",
       "      <td>BAR PASTORAL</td>\n",
       "      <td>2157189</td>\n",
       "      <td>Restaurant</td>\n",
       "      <td>Risk 1 (High)</td>\n",
       "      <td>2945-2947 N BROADWAY AVE</td>\n",
       "      <td>CHICAGO</td>\n",
       "      <td>IL</td>\n",
       "      <td>60657.0</td>\n",
       "      <td>08/02/2019</td>\n",
       "      <td>Canvass</td>\n",
       "      <td>Pass w/ Conditions</td>\n",
       "      <td>1. PERSON IN CHARGE PRESENT, DEMONSTRATES KNOW...</td>\n",
       "      <td>41.936248</td>\n",
       "      <td>-87.644121</td>\n",
       "      <td>(41.93624830273888, -87.64412091275041)</td>\n",
       "    </tr>\n",
       "    <tr>\n",
       "      <th>3</th>\n",
       "      <td>JIEYI SUSHI</td>\n",
       "      <td>JIEYI SUSHI</td>\n",
       "      <td>2506880</td>\n",
       "      <td>Restaurant</td>\n",
       "      <td>Risk 1 (High)</td>\n",
       "      <td>1178 N MILWAUKEE AVE</td>\n",
       "      <td>CHICAGO</td>\n",
       "      <td>IL</td>\n",
       "      <td>60642.0</td>\n",
       "      <td>06/25/2019</td>\n",
       "      <td>Canvass Re-Inspection</td>\n",
       "      <td>Pass w/ Conditions</td>\n",
       "      <td>23. PROPER DATE MARKING AND DISPOSITION - Comm...</td>\n",
       "      <td>41.903119</td>\n",
       "      <td>-87.666337</td>\n",
       "      <td>(41.90311911873191, -87.6663365256722)</td>\n",
       "    </tr>\n",
       "    <tr>\n",
       "      <th>4</th>\n",
       "      <td>GHAREEB NAWAZ RESTAURANT</td>\n",
       "      <td>GHAREEB NAWAZ RESTAURANT</td>\n",
       "      <td>2423912</td>\n",
       "      <td>Restaurant</td>\n",
       "      <td>Risk 1 (High)</td>\n",
       "      <td>2032-2036 W Devon AVE</td>\n",
       "      <td>CHICAGO</td>\n",
       "      <td>IL</td>\n",
       "      <td>60659.0</td>\n",
       "      <td>04/02/2019</td>\n",
       "      <td>Suspected Food Poisoning</td>\n",
       "      <td>Pass w/ Conditions</td>\n",
       "      <td>3. MANAGEMENT, FOOD EMPLOYEE AND CONDITIONAL E...</td>\n",
       "      <td>41.997984</td>\n",
       "      <td>-87.681420</td>\n",
       "      <td>(41.99798375025185, -87.68142044788961)</td>\n",
       "    </tr>\n",
       "  </tbody>\n",
       "</table>\n",
       "</div>"
      ],
      "text/plain": [
       "                   DBA Name                        AKA Name  License #  \\\n",
       "0       MANOLO'S TAMALES #3             MANOLO'S TAMALES #3    2307811   \n",
       "1          WOLFGANG EXPRESS  WOLFGANG PUCK EXPRESS (T3 K12)      34199   \n",
       "2                  PASTORAL                    BAR PASTORAL    2157189   \n",
       "3               JIEYI SUSHI                     JIEYI SUSHI    2506880   \n",
       "4  GHAREEB NAWAZ RESTAURANT        GHAREEB NAWAZ RESTAURANT    2423912   \n",
       "\n",
       "  Facility Type           Risk                   Address     City State  \\\n",
       "0    Restaurant  Risk 1 (High)         2455 S KEDZIE AVE  CHICAGO    IL   \n",
       "1    Restaurant  Risk 1 (High)         11601 W TOUHY AVE  CHICAGO    IL   \n",
       "2    Restaurant  Risk 1 (High)  2945-2947 N BROADWAY AVE  CHICAGO    IL   \n",
       "3    Restaurant  Risk 1 (High)      1178 N MILWAUKEE AVE  CHICAGO    IL   \n",
       "4    Restaurant  Risk 1 (High)     2032-2036 W Devon AVE  CHICAGO    IL   \n",
       "\n",
       "       Zip Inspection Date           Inspection Type             Results  \\\n",
       "0  60623.0      12/04/2018   Complaint Re-Inspection                Fail   \n",
       "1  60666.0      03/26/2019                   Canvass                Fail   \n",
       "2  60657.0      08/02/2019                   Canvass  Pass w/ Conditions   \n",
       "3  60642.0      06/25/2019     Canvass Re-Inspection  Pass w/ Conditions   \n",
       "4  60659.0      04/02/2019  Suspected Food Poisoning  Pass w/ Conditions   \n",
       "\n",
       "                                          Violations   Latitude  Longitude  \\\n",
       "0  3. MANAGEMENT, FOOD EMPLOYEE AND CONDITIONAL E...  41.846539 -87.704953   \n",
       "1  10. ADEQUATE HANDWASHING SINKS PROPERLY SUPPLI...  42.008536 -87.914428   \n",
       "2  1. PERSON IN CHARGE PRESENT, DEMONSTRATES KNOW...  41.936248 -87.644121   \n",
       "3  23. PROPER DATE MARKING AND DISPOSITION - Comm...  41.903119 -87.666337   \n",
       "4  3. MANAGEMENT, FOOD EMPLOYEE AND CONDITIONAL E...  41.997984 -87.681420   \n",
       "\n",
       "                                   Location  \n",
       "0  (41.846538888991475, -87.70495285575998)  \n",
       "1  (42.008536400868735, -87.91442843927047)  \n",
       "2   (41.93624830273888, -87.64412091275041)  \n",
       "3    (41.90311911873191, -87.6663365256722)  \n",
       "4   (41.99798375025185, -87.68142044788961)  "
      ]
     },
     "execution_count": 4,
     "metadata": {},
     "output_type": "execute_result"
    }
   ],
   "source": [
    "df2.head()"
   ]
  },
  {
   "cell_type": "code",
   "execution_count": 6,
   "metadata": {},
   "outputs": [],
   "source": [
    "#Some names were in all caps, some weren't, e.g. SUBWAY vs. Subway\n",
    "#Make it all lowercase\n",
    "df2['DBA Name'] = df2['DBA Name'].str.lower()"
   ]
  },
  {
   "cell_type": "markdown",
   "metadata": {},
   "source": [
    "One of the results for inspection is 'Out of Business.'  Assuming that this is the last result for the restaurant, then, I don't want to consider all of the previous inspections, as I will not be predicting whether that restaurant will fail or not."
   ]
  },
  {
   "cell_type": "code",
   "execution_count": 7,
   "metadata": {},
   "outputs": [],
   "source": [
    "#Making a bool whether the restaurant went out of business\n",
    "oob_bool = df2['Results']=='Out of Business'"
   ]
  },
  {
   "cell_type": "code",
   "execution_count": 8,
   "metadata": {},
   "outputs": [],
   "source": [
    "#Change to DateTimeIndex\n",
    "df2['Inspection Date'] = pd.to_datetime(df2['Inspection Date'])"
   ]
  },
  {
   "cell_type": "code",
   "execution_count": 9,
   "metadata": {},
   "outputs": [],
   "source": [
    "#Drop the values of the previous inspections for restaurants that went out of business\n",
    "for i, j, k in zip(df2['License #'][oob_bool], df2['Inspection Date'][oob_bool], df2['DBA Name'][oob_bool]):\n",
    "    oob_bool2 = (df2['License #']==i) & (df2['Inspection Date'] <= j) & (df2['DBA Name'] == k)\n",
    "    df2 = df2.drop(index=df2[oob_bool2].index.values)"
   ]
  },
  {
   "cell_type": "code",
   "execution_count": 10,
   "metadata": {},
   "outputs": [
    {
     "data": {
      "text/plain": [
       "DBA Name               0\n",
       "AKA Name             291\n",
       "License #              0\n",
       "Facility Type          0\n",
       "Risk                   1\n",
       "Address                0\n",
       "City                  34\n",
       "State                 18\n",
       "Zip                    7\n",
       "Inspection Date        0\n",
       "Inspection Type        0\n",
       "Results                0\n",
       "Violations         13696\n",
       "Latitude             110\n",
       "Longitude            110\n",
       "Location             110\n",
       "dtype: int64"
      ]
     },
     "execution_count": 10,
     "metadata": {},
     "output_type": "execute_result"
    }
   ],
   "source": [
    "#Check null values\n",
    "df2.isnull().sum()"
   ]
  },
  {
   "cell_type": "code",
   "execution_count": 11,
   "metadata": {},
   "outputs": [
    {
     "data": {
      "text/html": [
       "<div>\n",
       "<style scoped>\n",
       "    .dataframe tbody tr th:only-of-type {\n",
       "        vertical-align: middle;\n",
       "    }\n",
       "\n",
       "    .dataframe tbody tr th {\n",
       "        vertical-align: top;\n",
       "    }\n",
       "\n",
       "    .dataframe thead th {\n",
       "        text-align: right;\n",
       "    }\n",
       "</style>\n",
       "<table border=\"1\" class=\"dataframe\">\n",
       "  <thead>\n",
       "    <tr style=\"text-align: right;\">\n",
       "      <th></th>\n",
       "      <th>License #</th>\n",
       "      <th>Zip</th>\n",
       "      <th>Latitude</th>\n",
       "      <th>Longitude</th>\n",
       "    </tr>\n",
       "  </thead>\n",
       "  <tbody>\n",
       "    <tr>\n",
       "      <th>count</th>\n",
       "      <td>7.490800e+04</td>\n",
       "      <td>74901.000000</td>\n",
       "      <td>74798.000000</td>\n",
       "      <td>74798.000000</td>\n",
       "    </tr>\n",
       "    <tr>\n",
       "      <th>mean</th>\n",
       "      <td>1.653433e+06</td>\n",
       "      <td>60628.871510</td>\n",
       "      <td>41.891986</td>\n",
       "      <td>-87.676280</td>\n",
       "    </tr>\n",
       "    <tr>\n",
       "      <th>std</th>\n",
       "      <td>9.026595e+05</td>\n",
       "      <td>19.831936</td>\n",
       "      <td>0.073465</td>\n",
       "      <td>0.062386</td>\n",
       "    </tr>\n",
       "    <tr>\n",
       "      <th>min</th>\n",
       "      <td>0.000000e+00</td>\n",
       "      <td>60601.000000</td>\n",
       "      <td>41.644670</td>\n",
       "      <td>-87.914428</td>\n",
       "    </tr>\n",
       "    <tr>\n",
       "      <th>25%</th>\n",
       "      <td>1.273140e+06</td>\n",
       "      <td>60612.000000</td>\n",
       "      <td>41.865020</td>\n",
       "      <td>-87.702813</td>\n",
       "    </tr>\n",
       "    <tr>\n",
       "      <th>50%</th>\n",
       "      <td>2.008835e+06</td>\n",
       "      <td>60625.000000</td>\n",
       "      <td>41.895544</td>\n",
       "      <td>-87.661709</td>\n",
       "    </tr>\n",
       "    <tr>\n",
       "      <th>75%</th>\n",
       "      <td>2.341038e+06</td>\n",
       "      <td>60644.000000</td>\n",
       "      <td>41.943015</td>\n",
       "      <td>-87.633714</td>\n",
       "    </tr>\n",
       "    <tr>\n",
       "      <th>max</th>\n",
       "      <td>2.712666e+06</td>\n",
       "      <td>60827.000000</td>\n",
       "      <td>42.020808</td>\n",
       "      <td>-87.525094</td>\n",
       "    </tr>\n",
       "  </tbody>\n",
       "</table>\n",
       "</div>"
      ],
      "text/plain": [
       "          License #           Zip      Latitude     Longitude\n",
       "count  7.490800e+04  74901.000000  74798.000000  74798.000000\n",
       "mean   1.653433e+06  60628.871510     41.891986    -87.676280\n",
       "std    9.026595e+05     19.831936      0.073465      0.062386\n",
       "min    0.000000e+00  60601.000000     41.644670    -87.914428\n",
       "25%    1.273140e+06  60612.000000     41.865020    -87.702813\n",
       "50%    2.008835e+06  60625.000000     41.895544    -87.661709\n",
       "75%    2.341038e+06  60644.000000     41.943015    -87.633714\n",
       "max    2.712666e+06  60827.000000     42.020808    -87.525094"
      ]
     },
     "execution_count": 11,
     "metadata": {},
     "output_type": "execute_result"
    }
   ],
   "source": [
    "df2.describe()"
   ]
  },
  {
   "cell_type": "code",
   "execution_count": 12,
   "metadata": {},
   "outputs": [],
   "source": [
    "#Considering we have 7.4e4 we can afford to drop these values\n",
    "#Drop latitude, longitude, and location, as there values don't affect us for the features we're using\n",
    "df2 = df2.dropna(subset=['Latitude'])\n",
    "#Drop the 7 Zip rows too\n",
    "df2 = df2.dropna(subset=['Zip'])"
   ]
  },
  {
   "cell_type": "markdown",
   "metadata": {},
   "source": [
    "Since we have three possible results now, we can perform a one-hot encoding, since they are categorical variables"
   ]
  },
  {
   "cell_type": "code",
   "execution_count": 13,
   "metadata": {
    "collapsed": true
   },
   "outputs": [
    {
     "name": "stderr",
     "output_type": "stream",
     "text": [
      "/Users/louispenafiel/opt/anaconda2/lib/python2.7/site-packages/ipykernel_launcher.py:5: SettingWithCopyWarning: \n",
      "A value is trying to be set on a copy of a slice from a DataFrame\n",
      "\n",
      "See the caveats in the documentation: http://pandas.pydata.org/pandas-docs/stable/indexing.html#indexing-view-versus-copy\n",
      "  \"\"\"\n",
      "/Users/louispenafiel/opt/anaconda2/lib/python2.7/site-packages/ipykernel_launcher.py:6: SettingWithCopyWarning: \n",
      "A value is trying to be set on a copy of a slice from a DataFrame\n",
      "\n",
      "See the caveats in the documentation: http://pandas.pydata.org/pandas-docs/stable/indexing.html#indexing-view-versus-copy\n",
      "  \n",
      "/Users/louispenafiel/opt/anaconda2/lib/python2.7/site-packages/ipykernel_launcher.py:7: SettingWithCopyWarning: \n",
      "A value is trying to be set on a copy of a slice from a DataFrame\n",
      "\n",
      "See the caveats in the documentation: http://pandas.pydata.org/pandas-docs/stable/indexing.html#indexing-view-versus-copy\n",
      "  import sys\n",
      "/Users/louispenafiel/opt/anaconda2/lib/python2.7/site-packages/ipykernel_launcher.py:8: SettingWithCopyWarning: \n",
      "A value is trying to be set on a copy of a slice from a DataFrame\n",
      "\n",
      "See the caveats in the documentation: http://pandas.pydata.org/pandas-docs/stable/indexing.html#indexing-view-versus-copy\n",
      "  \n",
      "/Users/louispenafiel/opt/anaconda2/lib/python2.7/site-packages/ipykernel_launcher.py:9: SettingWithCopyWarning: \n",
      "A value is trying to be set on a copy of a slice from a DataFrame\n",
      "\n",
      "See the caveats in the documentation: http://pandas.pydata.org/pandas-docs/stable/indexing.html#indexing-view-versus-copy\n",
      "  if __name__ == '__main__':\n",
      "/Users/louispenafiel/opt/anaconda2/lib/python2.7/site-packages/ipykernel_launcher.py:10: SettingWithCopyWarning: \n",
      "A value is trying to be set on a copy of a slice from a DataFrame\n",
      "\n",
      "See the caveats in the documentation: http://pandas.pydata.org/pandas-docs/stable/indexing.html#indexing-view-versus-copy\n",
      "  # Remove the CWD from sys.path while we load stuff.\n"
     ]
    }
   ],
   "source": [
    "#Create the columns for whether the inspeciton, passed, failed or pwc'ed\n",
    "df2['Pwc'] = df2['Results'].copy()\n",
    "df2['Passed'] = df2['Results'].copy()\n",
    "df2['Failed'] = df2['Results'].copy()\n",
    "df2['Pwc'][df2['Results']!='Pass w/ Conditions'] = 0\n",
    "df2['Pwc'][df2['Results']=='Pass w/ Conditions'] = 1\n",
    "df2['Passed'][df2['Results']!='Pass'] = 0\n",
    "df2['Passed'][df2['Results']=='Pass'] = 1\n",
    "df2['Failed'][df2['Failed']!='Fail'] = 0\n",
    "df2['Failed'][df2['Failed']=='Fail'] = 1"
   ]
  },
  {
   "cell_type": "markdown",
   "metadata": {},
   "source": [
    "Make an **aggregated** dataframe, based on a unique combination of features.  'License #' is not one of them.  But a combination of 'DBA Name' and 'Zip' gives a unique combination.  We then aggregate **n_inspections, n_passed, n_failed, n_pwc**.  We also grab the **most_recent_inspection** date to find the most recent result, as that will give us our labels"
   ]
  },
  {
   "cell_type": "code",
   "execution_count": 15,
   "metadata": {},
   "outputs": [],
   "source": [
    "ln_df2 = (df2.groupby(['DBA Name','Zip'])\n",
    "               .agg({'Inspection Type':'count', 'Passed':'sum', 'Failed':'sum', 'Inspection Date':'max','Pwc':'sum'})\n",
    "               .reset_index()\n",
    "               .rename(columns={'Inspection Type':'n_inspections','Pwc':'n_pwc', 'Passed':'n_passed', 'Failed':'n_failed', 'Inspection Date':'most_recent_inspection'})\n",
    "        )"
   ]
  },
  {
   "cell_type": "code",
   "execution_count": 16,
   "metadata": {
    "collapsed": true
   },
   "outputs": [
    {
     "name": "stderr",
     "output_type": "stream",
     "text": [
      "/Users/louispenafiel/opt/anaconda2/lib/python2.7/site-packages/ipykernel_launcher.py:6: SettingWithCopyWarning: \n",
      "A value is trying to be set on a copy of a slice from a DataFrame\n",
      "\n",
      "See the caveats in the documentation: http://pandas.pydata.org/pandas-docs/stable/indexing.html#indexing-view-versus-copy\n",
      "  \n"
     ]
    }
   ],
   "source": [
    "#Populate number of chain restaurants\n",
    "ln_df2['Chains'] = [0] * len(ln_df2['DBA Name'])\n",
    "#Restaurant Count\n",
    "rc_df2 = ln_df2['DBA Name'].value_counts().reset_index().rename(columns={'index':'DBA Name', 'DBA Name':'Restaurant Counts'})\n",
    "for i, j in zip(rc_df2['DBA Name'], rc_df2['Restaurant Counts']):\n",
    "    ln_df2['Chains'][ln_df2['DBA Name'] == i] = j"
   ]
  },
  {
   "cell_type": "code",
   "execution_count": 17,
   "metadata": {},
   "outputs": [],
   "source": [
    "#Find most_recent_result\n",
    "recent_pass = []\n",
    "recent_fail = []\n",
    "recent_pwc = []\n",
    "for i, j, k in zip(ln_df2['Zip'], ln_df2['DBA Name'], ln_df2['most_recent_inspection']):\n",
    "    df2_bool = (df2['Zip'] == i) & (df2['DBA Name'] == j) & (df2['Inspection Date'] == k)\n",
    "    #print i,j,k\n",
    "    #print(df2['Results'][df2_bool].index)\n",
    "    #print(df2['Results'][df2_bool].values)[0]\n",
    "   \n",
    "    #print  df2['Result'][df2_bool].values[0]\n",
    "    if df2['Results'][df2_bool].values[-1] == 'Pass':\n",
    "        recent_pass.append(1)\n",
    "        recent_fail.append(0)\n",
    "        recent_pwc.append(0)\n",
    "    elif df2['Results'][df2_bool].values[-1] == 'Fail':\n",
    "        recent_pass.append(0)\n",
    "        recent_fail.append(1)\n",
    "        recent_pwc.append(0)\n",
    "    elif df2['Results'][df2_bool].values[-1] == 'Pass w/ Conditions':\n",
    "        recent_pass.append(0)\n",
    "        recent_fail.append(0)\n",
    "        recent_pwc.append(1)\n",
    "    else:\n",
    "        recent_pass.append(np.nan)\n",
    "        recent_fail.append(np.nan)\n",
    "        recent_pwc.append(np.nan)"
   ]
  },
  {
   "cell_type": "code",
   "execution_count": 18,
   "metadata": {},
   "outputs": [],
   "source": [
    "ln_df2['recent_pass'] = recent_pass\n",
    "ln_df2['recent_pwc'] = recent_pwc\n",
    "ln_df2['recent_fail'] = recent_fail"
   ]
  },
  {
   "cell_type": "code",
   "execution_count": 19,
   "metadata": {},
   "outputs": [
    {
     "data": {
      "text/plain": [
       "DBA Name                    0\n",
       "Zip                         0\n",
       "n_failed                    0\n",
       "n_pwc                       0\n",
       "n_inspections               0\n",
       "n_passed                    0\n",
       "most_recent_inspection      0\n",
       "Chains                      0\n",
       "recent_pass               255\n",
       "recent_pwc                255\n",
       "recent_fail               255\n",
       "dtype: int64"
      ]
     },
     "execution_count": 19,
     "metadata": {},
     "output_type": "execute_result"
    }
   ],
   "source": [
    "#Last round of cleaning, these correspond to the results\n",
    "#'No Entry' or other\n",
    "ln_df2.isnull().sum()"
   ]
  },
  {
   "cell_type": "code",
   "execution_count": 20,
   "metadata": {},
   "outputs": [],
   "source": [
    "ln_df2 = ln_df2.dropna()"
   ]
  },
  {
   "cell_type": "code",
   "execution_count": 21,
   "metadata": {},
   "outputs": [
    {
     "data": {
      "text/html": [
       "<div>\n",
       "<style scoped>\n",
       "    .dataframe tbody tr th:only-of-type {\n",
       "        vertical-align: middle;\n",
       "    }\n",
       "\n",
       "    .dataframe tbody tr th {\n",
       "        vertical-align: top;\n",
       "    }\n",
       "\n",
       "    .dataframe thead th {\n",
       "        text-align: right;\n",
       "    }\n",
       "</style>\n",
       "<table border=\"1\" class=\"dataframe\">\n",
       "  <thead>\n",
       "    <tr style=\"text-align: right;\">\n",
       "      <th></th>\n",
       "      <th>DBA Name</th>\n",
       "      <th>Zip</th>\n",
       "      <th>n_failed</th>\n",
       "      <th>n_pwc</th>\n",
       "      <th>n_inspections</th>\n",
       "      <th>n_passed</th>\n",
       "      <th>most_recent_inspection</th>\n",
       "      <th>Chains</th>\n",
       "      <th>recent_pass</th>\n",
       "      <th>recent_pwc</th>\n",
       "      <th>recent_fail</th>\n",
       "    </tr>\n",
       "  </thead>\n",
       "  <tbody>\n",
       "    <tr>\n",
       "      <th>0</th>\n",
       "      <td>\"c\" a catering and event company</td>\n",
       "      <td>60634.0</td>\n",
       "      <td>1</td>\n",
       "      <td>0</td>\n",
       "      <td>11</td>\n",
       "      <td>8</td>\n",
       "      <td>2019-04-05</td>\n",
       "      <td>1</td>\n",
       "      <td>1.0</td>\n",
       "      <td>0.0</td>\n",
       "      <td>0.0</td>\n",
       "    </tr>\n",
       "    <tr>\n",
       "      <th>1</th>\n",
       "      <td>\"luna empanada shop\"</td>\n",
       "      <td>60634.0</td>\n",
       "      <td>0</td>\n",
       "      <td>2</td>\n",
       "      <td>2</td>\n",
       "      <td>0</td>\n",
       "      <td>2020-01-14</td>\n",
       "      <td>1</td>\n",
       "      <td>0.0</td>\n",
       "      <td>1.0</td>\n",
       "      <td>0.0</td>\n",
       "    </tr>\n",
       "    <tr>\n",
       "      <th>3</th>\n",
       "      <td>#1 chop suey</td>\n",
       "      <td>60641.0</td>\n",
       "      <td>5</td>\n",
       "      <td>2</td>\n",
       "      <td>20</td>\n",
       "      <td>13</td>\n",
       "      <td>2020-01-24</td>\n",
       "      <td>1</td>\n",
       "      <td>0.0</td>\n",
       "      <td>0.0</td>\n",
       "      <td>1.0</td>\n",
       "    </tr>\n",
       "    <tr>\n",
       "      <th>4</th>\n",
       "      <td>#1 chop suey restaurant, inc</td>\n",
       "      <td>60649.0</td>\n",
       "      <td>0</td>\n",
       "      <td>0</td>\n",
       "      <td>1</td>\n",
       "      <td>1</td>\n",
       "      <td>2019-10-22</td>\n",
       "      <td>1</td>\n",
       "      <td>1.0</td>\n",
       "      <td>0.0</td>\n",
       "      <td>0.0</td>\n",
       "    </tr>\n",
       "    <tr>\n",
       "      <th>5</th>\n",
       "      <td>1 2 3 express</td>\n",
       "      <td>60608.0</td>\n",
       "      <td>1</td>\n",
       "      <td>0</td>\n",
       "      <td>3</td>\n",
       "      <td>2</td>\n",
       "      <td>2011-11-23</td>\n",
       "      <td>1</td>\n",
       "      <td>1.0</td>\n",
       "      <td>0.0</td>\n",
       "      <td>0.0</td>\n",
       "    </tr>\n",
       "  </tbody>\n",
       "</table>\n",
       "</div>"
      ],
      "text/plain": [
       "                           DBA Name      Zip  n_failed  n_pwc  n_inspections  \\\n",
       "0  \"c\" a catering and event company  60634.0         1      0             11   \n",
       "1              \"luna empanada shop\"  60634.0         0      2              2   \n",
       "3                      #1 chop suey  60641.0         5      2             20   \n",
       "4      #1 chop suey restaurant, inc  60649.0         0      0              1   \n",
       "5                     1 2 3 express  60608.0         1      0              3   \n",
       "\n",
       "   n_passed most_recent_inspection  Chains  recent_pass  recent_pwc  \\\n",
       "0         8             2019-04-05       1          1.0         0.0   \n",
       "1         0             2020-01-14       1          0.0         1.0   \n",
       "3        13             2020-01-24       1          0.0         0.0   \n",
       "4         1             2019-10-22       1          1.0         0.0   \n",
       "5         2             2011-11-23       1          1.0         0.0   \n",
       "\n",
       "   recent_fail  \n",
       "0          0.0  \n",
       "1          0.0  \n",
       "3          1.0  \n",
       "4          0.0  \n",
       "5          0.0  "
      ]
     },
     "execution_count": 21,
     "metadata": {},
     "output_type": "execute_result"
    }
   ],
   "source": [
    "ln_df2.head()"
   ]
  },
  {
   "cell_type": "code",
   "execution_count": 22,
   "metadata": {},
   "outputs": [],
   "source": [
    "#Need to subtract n_inspections, etc. by most recent result\n",
    "fail_bool = ln_df2['recent_fail'] == 1\n",
    "pass_bool = ln_df2['recent_pass'] == 1\n",
    "pwc_bool = ln_df2['recent_pwc'] == 1\n",
    "ln_df2['n_failed'][fail_bool] -= 1\n",
    "ln_df2['n_inspections'][fail_bool] -=1\n",
    "ln_df2['n_passed'][pass_bool] -= 1\n",
    "ln_df2['n_inspections'][pass_bool]-=1\n",
    "ln_df2['n_pwc'][pwc_bool] -=1\n",
    "ln_df2['n_inspections'][pwc_bool] -=1"
   ]
  },
  {
   "cell_type": "code",
   "execution_count": 23,
   "metadata": {},
   "outputs": [],
   "source": [
    "ln_df2.to_csv('datasets/chicago_restaurant_inspections_cleaned.csv')"
   ]
  },
  {
   "cell_type": "markdown",
   "metadata": {},
   "source": [
    "### Training and Evaluating ML Model"
   ]
  },
  {
   "cell_type": "code",
   "execution_count": 24,
   "metadata": {},
   "outputs": [],
   "source": [
    "#Since I'm using tensorflow, there's an error the occurs with MacOS and Jupyter Notebook\n",
    "#The solution to which are the two lines\n",
    "import os\n",
    "os.environ['KMP_DUPLICATE_LIB_OK']='True'"
   ]
  },
  {
   "cell_type": "code",
   "execution_count": 25,
   "metadata": {},
   "outputs": [],
   "source": [
    "#Reinitialize df2\n",
    "df2 = pd.read_csv('datasets/chicago_restaurant_inspections_cleaned.csv')"
   ]
  },
  {
   "cell_type": "code",
   "execution_count": 26,
   "metadata": {},
   "outputs": [],
   "source": [
    "#Import tensorflow\n",
    "import tensorflow as tf\n",
    "from sklearn.model_selection import train_test_split"
   ]
  },
  {
   "cell_type": "code",
   "execution_count": 27,
   "metadata": {},
   "outputs": [],
   "source": [
    "#Define labels and features\n",
    "features=['Zip', 'n_inspections','Chains','n_passed', 'n_failed', 'n_pwc']\n",
    "labels = ['recent_pass','recent_fail','recent_pwc']"
   ]
  },
  {
   "cell_type": "code",
   "execution_count": 28,
   "metadata": {},
   "outputs": [],
   "source": [
    "#Use a test size of 40%, and a specific random_state for reproducibility\n",
    "y_val = df2[labels]\n",
    "x_data = df2[features]\n",
    "X_train, X_eval, y_train, y_eval = train_test_split(x_data, y_val, test_size=0.4, random_state=1)"
   ]
  },
  {
   "cell_type": "code",
   "execution_count": 29,
   "metadata": {},
   "outputs": [],
   "source": [
    "#Normalize the features\n",
    "X_train_stats = X_train.describe()\n",
    "X_train_stats = X_train_stats.transpose()\n",
    "def norm(x):\n",
    "    return (x - X_train_stats['mean']) / X_train_stats['std']\n",
    "normed_X_train = norm(X_train)\n",
    "normed_X_eval = norm(X_eval)\n",
    "normed_X_data = norm(x_data)"
   ]
  },
  {
   "cell_type": "markdown",
   "metadata": {},
   "source": [
    "I decided to use a **neural network** with 2 hidden layers with 64 neurons each.  After each one, I decided to add a dropout to avoid overfitting.  Due to the nature of predictions, I use 'softmax' to output to one of the 3 possible outputs.  I used the Adam optimizer because it gave a higher accuracy with less amount of epochs.  **Accuracy** is what we will be using to evaluate how good the model is."
   ]
  },
  {
   "cell_type": "code",
   "execution_count": 30,
   "metadata": {},
   "outputs": [
    {
     "name": "stdout",
     "output_type": "stream",
     "text": [
      "Model: \"sequential\"\n",
      "_________________________________________________________________\n",
      "Layer (type)                 Output Shape              Param #   \n",
      "=================================================================\n",
      "dense (Dense)                (None, 64)                448       \n",
      "_________________________________________________________________\n",
      "dropout (Dropout)            (None, 64)                0         \n",
      "_________________________________________________________________\n",
      "dense_1 (Dense)              (None, 64)                4160      \n",
      "_________________________________________________________________\n",
      "dropout_1 (Dropout)          (None, 64)                0         \n",
      "_________________________________________________________________\n",
      "dense_2 (Dense)              (None, 3)                 195       \n",
      "=================================================================\n",
      "Total params: 4,803\n",
      "Trainable params: 4,803\n",
      "Non-trainable params: 0\n",
      "_________________________________________________________________\n",
      "None\n"
     ]
    }
   ],
   "source": [
    "#Initialize NN model\n",
    "model = tf.keras.Sequential()\n",
    "model.add(tf.keras.layers.Dense(64, activation='relu', input_shape=[len(X_train.keys())]))\n",
    "model.add(tf.keras.layers.Dropout(0.25))\n",
    "model.add(tf.keras.layers.Dense(64, activation='relu'))\n",
    "model.add(tf.keras.layers.Dropout(0.25))\n",
    "model.add(tf.keras.layers.Dense(3, activation='softmax'))\n",
    "model.compile(optimizer=tf.keras.optimizers.Adam(learning_rate=1e-3),\n",
    "              loss='categorical_crossentropy', metrics=['accuracy'])\n",
    "print(model.summary())"
   ]
  },
  {
   "cell_type": "markdown",
   "metadata": {},
   "source": [
    "We perform training over 100 epochs, as after 3 or so epochs theres a non-insignificant increase in the accuracy.  We perform a validation split of 60/40."
   ]
  },
  {
   "cell_type": "code",
   "execution_count": 32,
   "metadata": {},
   "outputs": [
    {
     "name": "stdout",
     "output_type": "stream",
     "text": [
      "WARNING:tensorflow:Falling back from v2 loop because of error: Failed to find data adapter that can handle input: <class 'pandas.core.frame.DataFrame'>, <type 'NoneType'>\n"
     ]
    },
    {
     "data": {
      "text/plain": [
       "<tensorflow.python.keras.callbacks.History at 0x7fe6e096db90>"
      ]
     },
     "execution_count": 32,
     "metadata": {},
     "output_type": "execute_result"
    }
   ],
   "source": [
    "model.fit(normed_X_train, y_train, epochs=100,validation_split=0.4, verbose=0)"
   ]
  },
  {
   "cell_type": "code",
   "execution_count": 33,
   "metadata": {},
   "outputs": [
    {
     "name": "stdout",
     "output_type": "stream",
     "text": [
      "WARNING:tensorflow:Falling back from v2 loop because of error: Failed to find data adapter that can handle input: <class 'pandas.core.frame.DataFrame'>, <type 'NoneType'>\n",
      "5140/5140 [==============================] - 0s 37us/sample - loss: 0.6643 - accuracy: 0.6553\n",
      "WARNING:tensorflow:Falling back from v2 loop because of error: Failed to find data adapter that can handle input: <class 'pandas.core.frame.DataFrame'>, <type 'NoneType'>\n",
      "3427/3427 [==============================] - 0s 35us/sample - loss: 0.7486 - accuracy: 0.6320\n"
     ]
    }
   ],
   "source": [
    "#Evaluate how good the model is\n",
    "train_pred = model.evaluate(normed_X_train, y_train)\n",
    "test_pred = model.evaluate(normed_X_eval, y_eval)"
   ]
  },
  {
   "cell_type": "markdown",
   "metadata": {},
   "source": [
    "Higher accuracy on the training set, means that there could be some **overfitting**.  Now time to see the actual predictions."
   ]
  },
  {
   "cell_type": "markdown",
   "metadata": {},
   "source": [
    "### Results"
   ]
  },
  {
   "cell_type": "code",
   "execution_count": 35,
   "metadata": {},
   "outputs": [
    {
     "name": "stdout",
     "output_type": "stream",
     "text": [
      "WARNING:tensorflow:Falling back from v2 loop because of error: Failed to find data adapter that can handle input: <class 'pandas.core.frame.DataFrame'>, <type 'NoneType'>\n"
     ]
    }
   ],
   "source": [
    "predictions = model.predict(normed_X_data)\n",
    "#These are mainly probabilities\n",
    "df2['pred_pass'] = predictions[:,0]\n",
    "df2['pred_fail'] = predictions[:,1]\n",
    "df2['pred_pwc'] = predictions[:,2]\n",
    "\n",
    "#Find the maximum probabilty\n",
    "df2['pred_result'] = df2[['pred_pass', 'pred_fail','pred_pwc']].idxmax(axis=1)\n",
    "\n",
    "#Get the result from the actual data\n",
    "df2['recent_result'] = df2[['recent_pass', 'recent_fail', 'recent_pwc']].idxmax(axis=1)"
   ]
  },
  {
   "cell_type": "code",
   "execution_count": 36,
   "metadata": {
    "collapsed": true
   },
   "outputs": [
    {
     "name": "stderr",
     "output_type": "stream",
     "text": [
      "/Users/louispenafiel/opt/anaconda2/lib/python2.7/site-packages/ipykernel_launcher.py:4: SettingWithCopyWarning: \n",
      "A value is trying to be set on a copy of a slice from a DataFrame\n",
      "\n",
      "See the caveats in the documentation: http://pandas.pydata.org/pandas-docs/stable/indexing.html#indexing-view-versus-copy\n",
      "  after removing the cwd from sys.path.\n",
      "/Users/louispenafiel/opt/anaconda2/lib/python2.7/site-packages/ipykernel_launcher.py:5: SettingWithCopyWarning: \n",
      "A value is trying to be set on a copy of a slice from a DataFrame\n",
      "\n",
      "See the caveats in the documentation: http://pandas.pydata.org/pandas-docs/stable/indexing.html#indexing-view-versus-copy\n",
      "  \"\"\"\n",
      "/Users/louispenafiel/opt/anaconda2/lib/python2.7/site-packages/ipykernel_launcher.py:6: SettingWithCopyWarning: \n",
      "A value is trying to be set on a copy of a slice from a DataFrame\n",
      "\n",
      "See the caveats in the documentation: http://pandas.pydata.org/pandas-docs/stable/indexing.html#indexing-view-versus-copy\n",
      "  \n",
      "/Users/louispenafiel/opt/anaconda2/lib/python2.7/site-packages/ipykernel_launcher.py:11: SettingWithCopyWarning: \n",
      "A value is trying to be set on a copy of a slice from a DataFrame\n",
      "\n",
      "See the caveats in the documentation: http://pandas.pydata.org/pandas-docs/stable/indexing.html#indexing-view-versus-copy\n",
      "  # This is added back by InteractiveShellApp.init_path()\n",
      "/Users/louispenafiel/opt/anaconda2/lib/python2.7/site-packages/ipykernel_launcher.py:12: SettingWithCopyWarning: \n",
      "A value is trying to be set on a copy of a slice from a DataFrame\n",
      "\n",
      "See the caveats in the documentation: http://pandas.pydata.org/pandas-docs/stable/indexing.html#indexing-view-versus-copy\n",
      "  if sys.path[0] == '':\n",
      "/Users/louispenafiel/opt/anaconda2/lib/python2.7/site-packages/ipykernel_launcher.py:13: SettingWithCopyWarning: \n",
      "A value is trying to be set on a copy of a slice from a DataFrame\n",
      "\n",
      "See the caveats in the documentation: http://pandas.pydata.org/pandas-docs/stable/indexing.html#indexing-view-versus-copy\n",
      "  del sys.path[0]\n"
     ]
    }
   ],
   "source": [
    "rec_pwc_bool = (df2['recent_result'] == 'recent_pwc')\n",
    "rec_pass_bool = (df2['recent_result'] == 'recent_pass')\n",
    "rec_fail_bool = (df2['recent_result'] == 'recent_fail')\n",
    "df2['recent_result'][rec_pwc_bool] = 'Pass w/ Conditions'\n",
    "df2['recent_result'][rec_pass_bool] = 'Pass'\n",
    "df2['recent_result'][rec_fail_bool] = 'Fail'\n",
    "\n",
    "pred_pwc_bool = (df2['pred_result'] == 'pred_pwc')\n",
    "pred_pass_bool = (df2['pred_result'] == 'pred_pass')\n",
    "pred_fail_bool = (df2['pred_result'] == 'pred_fail')\n",
    "df2['pred_result'][pred_pwc_bool] = 'Pass w/ Conditions'\n",
    "df2['pred_result'][pred_pass_bool] = 'Pass'\n",
    "df2['pred_result'][pred_fail_bool] = 'Fail'"
   ]
  },
  {
   "cell_type": "code",
   "execution_count": 37,
   "metadata": {},
   "outputs": [],
   "source": [
    "#Check accuracy score\n",
    "from sklearn.metrics import accuracy_score"
   ]
  },
  {
   "cell_type": "code",
   "execution_count": 38,
   "metadata": {},
   "outputs": [
    {
     "name": "stdout",
     "output_type": "stream",
     "text": [
      "0.6459670829928796\n"
     ]
    }
   ],
   "source": [
    "ml_accuracy = accuracy_score(df2['recent_result'], df2['pred_result'])\n",
    "print(ml_accuracy)"
   ]
  },
  {
   "cell_type": "code",
   "execution_count": 39,
   "metadata": {},
   "outputs": [],
   "source": [
    "#Plot a confusion matrix\n",
    "from sklearn.metrics import confusion_matrix\n",
    "\n",
    "classes = ['Pass', 'Pass w/ Conditions', 'Fail']"
   ]
  },
  {
   "cell_type": "code",
   "execution_count": 40,
   "metadata": {},
   "outputs": [
    {
     "data": {
      "text/plain": [
       "array([[1466, 2099,    0],\n",
       "       [ 811, 4067,    0],\n",
       "       [  64,   59,    1]])"
      ]
     },
     "execution_count": 40,
     "metadata": {},
     "output_type": "execute_result"
    }
   ],
   "source": [
    "confusion_matrix(df2['recent_result'], df2['pred_result'],labels=classes)"
   ]
  },
  {
   "cell_type": "markdown",
   "metadata": {},
   "source": [
    "To plot the confusion matrix, we use the below function from the [scikit-learn documentation](https://scikit-learn.org/stable/auto_examples/model_selection/plot_confusion_matrix.html#sphx-glr-auto-examples-model-selection-plot-confusion-matrix-py)"
   ]
  },
  {
   "cell_type": "code",
   "execution_count": 41,
   "metadata": {},
   "outputs": [],
   "source": [
    "def plot_confusion_matrix(cm, classes,\n",
    "                          normalize=False,\n",
    "                          title='Confusion matrix',\n",
    "                          cmap=plt.cm.Blues):\n",
    "    \"\"\"\n",
    "    This function prints and plots the confusion matrix.\n",
    "    Normalization can be applied by setting `normalize=True`.\n",
    "    \"\"\"\n",
    "    import itertools\n",
    "    if normalize:\n",
    "        cm = cm.astype('float') / cm.sum(axis=1)[:, np.newaxis]\n",
    "        print(\"Normalized confusion matrix\")\n",
    "    else:\n",
    "        print('Confusion matrix, without normalization')\n",
    "\n",
    "    print(cm)\n",
    "\n",
    "    plt.imshow(cm, interpolation='nearest', cmap=cmap)\n",
    "    plt.title(title)\n",
    "    plt.colorbar()\n",
    "    tick_marks = np.arange(len(classes))\n",
    "    plt.xticks(tick_marks, classes, rotation=45)\n",
    "    plt.yticks(tick_marks, classes)\n",
    "\n",
    "    fmt = '.2f' if normalize else 'd'\n",
    "    thresh = cm.max() / 2.\n",
    "    for i, j in itertools.product(range(cm.shape[0]), range(cm.shape[1])):\n",
    "        plt.text(j, i, format(cm[i, j], fmt),\n",
    "                 horizontalalignment=\"center\",\n",
    "                 color=\"white\" if cm[i, j] > thresh else \"black\")\n",
    "\n",
    "    plt.ylabel('True label')\n",
    "    plt.xlabel('Predicted label')\n",
    "    plt.tight_layout()"
   ]
  },
  {
   "cell_type": "code",
   "execution_count": 43,
   "metadata": {},
   "outputs": [
    {
     "name": "stdout",
     "output_type": "stream",
     "text": [
      "Confusion matrix, without normalization\n",
      "[[1466 2099    0]\n",
      " [ 811 4067    0]\n",
      " [  64   59    1]]\n"
     ]
    },
    {
     "data": {
      "image/png": "[encoded data removed]",
      "text/plain": [
       "<Figure size 432x288 with 2 Axes>"
      ]
     },
     "metadata": {
      "needs_background": "light"
     },
     "output_type": "display_data"
    }
   ],
   "source": [
    "cnf_matrix = confusion_matrix(df2['recent_result'], df2['pred_result'],labels=classes)\n",
    "np.set_printoptions(precision=2)\n",
    "\n",
    "# Plot non-normalized confusion matrix\n",
    "plt.figure()\n",
    "plot_confusion_matrix(cnf_matrix, classes=classes,\n",
    "                      title='Confusion matrix, without normalization')\n",
    "\n"
   ]
  },
  {
   "cell_type": "markdown",
   "metadata": {},
   "source": [
    "A majority of the misclassification comes from predicting the inspection to be 'Pass w/ Conditions' when it should be 'Pass.'  Another misclassfication problem to look into is predictions for 'Fail.'  This could possibly be due to the data sets as a majority of the recent inspections are 'Pass' or 'Pass w/ Conditions.'  This means we need a better feature set.\n",
    "\n",
    "Other features to look into include using the georgraphic separations (community areas of which [Chicago has 77 of](https://en.wikipedia.org/wiki/Community_areas_in_Chicago)) rather than Zip codes, as it is could be more coarse-grained (i.e. allowing for more 'Fail' restaurants in a specific region).  This would need a combination of geopy and geopandas to find get that information.\n",
    "\n",
    "Another feature to take into consideration is **Inspection Date**, certain restaurants may operate differently depending on the time of year.\n",
    "\n",
    "We can also alter the **Chains** feature to be changed into a binary classification with a specific threshold, like 3 restaurants with the same name.  As most non-chain restaurants have a value of 1, which can cause some fitting issues."
   ]
  },
  {
   "cell_type": "markdown",
   "metadata": {},
   "source": [
    "#### Other models looked into\n",
    "\n",
    "One of the main models that I worked on was instead of using 'Pass w/ Conditions' I made that into 'Pass.'  However, that would give me around a 98% pass rate for the most recent inspection.  While this would give me a great accuracy (around 97% during testing and validating), I found that this is not a good enough understanding of how risky certain restaurants are in their follow-up inspection.  A restaurant passing with conditions is certainly riskier to include in the Rewards Network platform than a restaurant passing.  It is necessary to mitigate risk as much as possible as 'Pass W/ Conditions' does not give me confidence in the restaurant."
   ]
  },
  {
   "cell_type": "code",
   "execution_count": null,
   "metadata": {},
   "outputs": [],
   "source": []
  }
 ],
 "metadata": {
  "kernelspec": {
   "display_name": "Python 2",
   "language": "python",
   "name": "python2"
  },
  "language_info": {
   "codemirror_mode": {
    "name": "ipython",
    "version": 2
   },
   "file_extension": ".py",
   "mimetype": "text/x-python",
   "name": "python",
   "nbconvert_exporter": "python",
   "pygments_lexer": "ipython2",
   "version": "2.7.15"
  }
 },
 "nbformat": 4,
 "nbformat_minor": 2
}
